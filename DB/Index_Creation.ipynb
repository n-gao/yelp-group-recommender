{
 "cells": [
  {
   "cell_type": "code",
   "execution_count": 1,
   "metadata": {},
   "outputs": [],
   "source": [
    "from DB.database import Database\n",
    "from DB.model import *"
   ]
  },
  {
   "cell_type": "code",
   "execution_count": 2,
   "metadata": {},
   "outputs": [
    {
     "data": {
      "text/plain": [
       "<database.Database at 0x7f6d3fa7b7b8>"
      ]
     },
     "execution_count": 2,
     "metadata": {},
     "output_type": "execute_result"
    }
   ],
   "source": [
    "db = Database('sqlite:///../yelp.db')\n",
    "db.__enter__()"
   ]
  },
  {
   "cell_type": "code",
   "execution_count": 3,
   "metadata": {},
   "outputs": [
    {
     "name": "stdout",
     "output_type": "stream",
     "text": [
      "Created attribute index\n",
      "Created business index\n",
      "Created category index\n",
      "Created checkin index\n",
      "Created elite_years index\n",
      "Created friend_friend index\n",
      "Created friend_user index\n",
      "Created hours index\n",
      "Created photo index\n",
      "Created review_business index\n",
      "Created review_user index\n",
      "Created tip_business index\n",
      "Created tip_user index\n",
      "Created user index\n"
     ]
    }
   ],
   "source": [
    "db.db_engine.execute('CREATE INDEX `attribute_business_index` ON `attribute` ( `business_id` )')\n",
    "print('Created attribute index')\n",
    "db.db_engine.execute('CREATE UNIQUE INDEX `business_id_index` ON `business` ( `id` )')\n",
    "print('Created business index')\n",
    "db.db_engine.execute('CREATE INDEX `category_business_id` ON `category` ( `business_id` )')\n",
    "print('Created category index')\n",
    "db.db_engine.execute('CREATE INDEX `checkin_business_id_index` ON `checkin` ( `business_id` )')\n",
    "print('Created checkin index')\n",
    "db.db_engine.execute('CREATE INDEX `elite_years_user_id_index` ON `elite_years` ( `user_id` )')\n",
    "print('Created elite_years index')\n",
    "db.db_engine.execute('CREATE INDEX `friend_friend_id_index` ON `friend` ( `friend_id` )')\n",
    "print('Created friend_friend index')\n",
    "db.db_engine.execute('CREATE INDEX `friend_user_id_index` ON `friend` ( `user_id` )')\n",
    "print('Created friend_user index')\n",
    "db.db_engine.execute('CREATE INDEX `hours_business_id_index` ON `hours` ( `business_id` )')\n",
    "print('Created hours index')\n",
    "db.db_engine.execute('CREATE INDEX `photo_business_id_index` ON `photo` ( `business_id` )')\n",
    "print('Created photo index')\n",
    "db.db_engine.execute('CREATE INDEX `review_business_id_index` ON `review` ( `business_id` )')\n",
    "print('Created review_business index')\n",
    "db.db_engine.execute('CREATE INDEX `review_user_id_index` ON `review` ( `user_id` )')\n",
    "print('Created review_user index')\n",
    "db.db_engine.execute('CREATE INDEX `tip_business_id_index` ON `tip` ( `business_id` )')\n",
    "print('Created tip_business index')\n",
    "db.db_engine.execute('CREATE INDEX `tip_user_id_index` ON `tip` ( `user_id` )')\n",
    "print('Created tip_user index')\n",
    "db.db_engine.execute('CREATE UNIQUE INDEX `user_user_id_index` ON `user` ( `id` )')\n",
    "print('Created user index')"
   ]
  },
  {
   "cell_type": "code",
   "execution_count": null,
   "metadata": {},
   "outputs": [],
   "source": []
  }
 ],
 "metadata": {
  "kernelspec": {
   "display_name": "Python 3",
   "language": "python",
   "name": "python3"
  },
  "language_info": {
   "codemirror_mode": {
    "name": "ipython",
    "version": 3
   },
   "file_extension": ".py",
   "mimetype": "text/x-python",
   "name": "python",
   "nbconvert_exporter": "python",
   "pygments_lexer": "ipython3",
   "version": "3.6.5"
  }
 },
 "nbformat": 4,
 "nbformat_minor": 2
}
