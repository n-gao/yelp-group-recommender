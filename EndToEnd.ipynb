{
 "cells": [
  {
   "cell_type": "markdown",
   "metadata": {},
   "source": [
    "# End-to-end Model evaluation\n",
    "In this notebook we are performing an end-to-end evaluation of our model by checking two methods."
   ]
  },
  {
   "cell_type": "code",
   "execution_count": 550,
   "metadata": {},
   "outputs": [
    {
     "name": "stdout",
     "output_type": "stream",
     "text": [
      "The autoreload extension is already loaded. To reload it, use:\n",
      "  %reload_ext autoreload\n"
     ]
    },
    {
     "data": {
      "text/plain": [
       "<module 'src.gr_recommender' from '/home/gaoni/ml-lab-summer-18-project-3/src/gr_recommender.py'>"
      ]
     },
     "execution_count": 550,
     "metadata": {},
     "output_type": "execute_result"
    }
   ],
   "source": [
    "# automatically show plots inside the notebook\n",
    "%matplotlib inline  \n",
    "\n",
    "# reload all modules before executing code\n",
    "%load_ext autoreload\n",
    "%autoreload 2 \n",
    "\n",
    "import numpy as np\n",
    "import pickle\n",
    "import importlib\n",
    "import matplotlib.pyplot as plt\n",
    "from collections import Counter\n",
    "from sklearn.neighbors import NearestNeighbors\n",
    "from sklearn.model_selection import train_test_split\n",
    "import scipy.sparse as sp\n",
    "from sklearn.metrics.pairwise import cosine_similarity\n",
    "from scipy.stats import kendalltau\n",
    "\n",
    "from DB.database import Database, get_data, get_entities, get_matrices\n",
    "from DB.model import *\n",
    "import DB.model\n",
    "import src.preprocessing as pre\n",
    "import src.mc as mc\n",
    "import src.gr_recommender as gr\n",
    "import src.sc as sc\n",
    "from scipy.stats import kendalltau\n",
    "import src.MF as MF\n",
    "import src.Solver as Solver\n",
    "import src.preprocessing as pre\n",
    "import itertools"
   ]
  },
  {
   "cell_type": "code",
   "execution_count": 323,
   "metadata": {},
   "outputs": [],
   "source": [
    "N = 100000\n",
    "M = 100000"
   ]
  },
  {
   "cell_type": "code",
   "execution_count": 324,
   "metadata": {},
   "outputs": [
    {
     "data": {
      "text/plain": [
       "<DB.database.Database at 0x7f36e96a2940>"
      ]
     },
     "execution_count": 324,
     "metadata": {},
     "output_type": "execute_result"
    }
   ],
   "source": [
    "db = Database()\n",
    "db.__enter__()"
   ]
  },
  {
   "cell_type": "code",
   "execution_count": 325,
   "metadata": {},
   "outputs": [
    {
     "name": "stdout",
     "output_type": "stream",
     "text": [
      "Got users\n",
      "Got businesses\n",
      "Got reviews\n"
     ]
    }
   ],
   "source": [
    "users, businesses, reviews, category_names, cities = get_entities(db, N, M)"
   ]
  },
  {
   "cell_type": "code",
   "execution_count": 326,
   "metadata": {},
   "outputs": [],
   "source": [
    "friends, ratings, business_attributes = get_matrices(users, businesses, reviews, category_names, cities, need_business=False, add_cities=False, \n",
    "             add_words=False, buss_conn_threshold=0, buss_conn_min_users=1)"
   ]
  },
  {
   "cell_type": "code",
   "execution_count": 327,
   "metadata": {},
   "outputs": [
    {
     "data": {
      "text/plain": [
       "<100000x100000 sparse matrix of type '<class 'numpy.float64'>'\n",
       "\twith 374867 stored elements in LInked List format>"
      ]
     },
     "execution_count": 327,
     "metadata": {},
     "output_type": "execute_result"
    }
   ],
   "source": [
    "ratings"
   ]
  },
  {
   "cell_type": "code",
   "execution_count": 328,
   "metadata": {},
   "outputs": [
    {
     "name": "stdout",
     "output_type": "stream",
     "text": [
      "Shape before: (100000, 100000)\n",
      "Shape after: (7430, 6458)\n"
     ]
    }
   ],
   "source": [
    "importlib.reload(MF)\n",
    "ratings, user_idx, business_idx, friends, business_attributes = pre.cold_start_preprocessing(ratings, friends, business_attributes, min_entries=5)"
   ]
  },
  {
   "cell_type": "code",
   "execution_count": 329,
   "metadata": {},
   "outputs": [],
   "source": [
    "M, N = ratings.shape"
   ]
  },
  {
   "cell_type": "markdown",
   "metadata": {},
   "source": [
    "## Finding test groups\n",
    "Find a groups of users which have rated at least one common business with 1 or 2 stars and at least one common business with 4 or 5 stars."
   ]
  },
  {
   "cell_type": "code",
   "execution_count": 330,
   "metadata": {},
   "outputs": [],
   "source": [
    "# Group size\n",
    "n = 4"
   ]
  },
  {
   "cell_type": "code",
   "execution_count": 331,
   "metadata": {},
   "outputs": [],
   "source": [
    "# Returns all possible subtuples of given size\n",
    "def sub_tuples(users, size=4):\n",
    "    def _sub_tuples(users, start, depth):\n",
    "        result = []\n",
    "        for i in range(start, len(users)):\n",
    "            if depth==1:\n",
    "                result.append(tuple([users[i]]))\n",
    "            else:\n",
    "                prev = _sub_tuples(users, i+1, depth-1)\n",
    "                for p in prev:\n",
    "                    result.append((*p, users[i]))\n",
    "        return result\n",
    "    return set(_sub_tuples(users, 0, size))"
   ]
  },
  {
   "cell_type": "code",
   "execution_count": 332,
   "metadata": {},
   "outputs": [],
   "source": [
    "def get_possible_businesses(ratings, possible_values, group_size):\n",
    "    possible_buss = []\n",
    "    ratings = ratings\n",
    "    ratings_filter = sp.lil_matrix(ratings.shape).astype('bool')\n",
    "    for val in possible_values:\n",
    "        ratings_filter = ratings_filter + (ratings == val)\n",
    "    ratings = ratings \n",
    "    for i in range(ratings.shape[0]):\n",
    "        nnz = ratings_filter[i,:].nnz\n",
    "        if nnz > n:\n",
    "            # print(\"business: \",i,\" Starred 5 by: \", nnz)\n",
    "            possible_buss.append(i)\n",
    "    return possible_buss"
   ]
  },
  {
   "cell_type": "code",
   "execution_count": 333,
   "metadata": {},
   "outputs": [],
   "source": [
    "def get_user_groups(ratings, possible_values, group_size):\n",
    "    businesses = get_possible_businesses(ratings, possible_values, group_size)\n",
    "    \n",
    "    rating_filter = sp.lil_matrix(ratings.shape).astype('bool')\n",
    "    for val in possible_values:\n",
    "        rating_filter = rating_filter + ratings == val\n",
    "        \n",
    "    user_pairs = set()\n",
    "    for buss in businesses:\n",
    "        users = rating_filter[buss].nonzero()[1]\n",
    "        for pair in sub_tuples(users, size=n):\n",
    "            user_pairs.add(pair)\n",
    "            \n",
    "    return user_pairs"
   ]
  },
  {
   "cell_type": "code",
   "execution_count": 334,
   "metadata": {},
   "outputs": [
    {
     "name": "stdout",
     "output_type": "stream",
     "text": [
      "5475\n"
     ]
    }
   ],
   "source": [
    "# Get businesses which have been rated by a group of n people with at least 4 stars\n",
    "possible_buss = get_possible_businesses(ratings, [4, 5], n)\n",
    "print(len(possible_buss))"
   ]
  },
  {
   "cell_type": "code",
   "execution_count": 335,
   "metadata": {},
   "outputs": [],
   "source": [
    "user_groups_5 = get_user_groups(ratings, [4, 5], n)"
   ]
  },
  {
   "cell_type": "code",
   "execution_count": 336,
   "metadata": {},
   "outputs": [
    {
     "data": {
      "text/plain": [
       "263618904"
      ]
     },
     "execution_count": 336,
     "metadata": {},
     "output_type": "execute_result"
    }
   ],
   "source": [
    "len(user_groups_5)"
   ]
  },
  {
   "cell_type": "code",
   "execution_count": 337,
   "metadata": {},
   "outputs": [
    {
     "name": "stdout",
     "output_type": "stream",
     "text": [
      "805\n"
     ]
    }
   ],
   "source": [
    "# Get businesses which have been rated by a group of n people with at most 2 stars\n",
    "possible_buss = get_possible_businesses(ratings, [1, 2], n)\n",
    "print(len(possible_buss))"
   ]
  },
  {
   "cell_type": "code",
   "execution_count": 338,
   "metadata": {},
   "outputs": [],
   "source": [
    "# Get groups of users who have rated the business well\n",
    "user_pairs_1 = set()\n",
    "for buss in possible_buss:\n",
    "    users = ((ratings[buss] == 1) + (ratings[buss] == 2)).nonzero()[1]\n",
    "    for pair in sub_tuples(users, size=n):\n",
    "        user_pairs_1.add(pair)"
   ]
  },
  {
   "cell_type": "code",
   "execution_count": 339,
   "metadata": {},
   "outputs": [],
   "source": [
    "user_groups_1 = get_user_groups(ratings, [1, 2], n)"
   ]
  },
  {
   "cell_type": "code",
   "execution_count": 340,
   "metadata": {},
   "outputs": [
    {
     "data": {
      "text/plain": [
       "294516"
      ]
     },
     "execution_count": 340,
     "metadata": {},
     "output_type": "execute_result"
    }
   ],
   "source": [
    "len(user_groups_1)"
   ]
  },
  {
   "cell_type": "markdown",
   "metadata": {},
   "source": [
    "Construct the intersection between 4/5 star groups and 1/2 star groups"
   ]
  },
  {
   "cell_type": "code",
   "execution_count": 341,
   "metadata": {},
   "outputs": [],
   "source": [
    "# Get the groups who have done both\n",
    "test_groups = user_groups_5.intersection(user_groups_1)"
   ]
  },
  {
   "cell_type": "code",
   "execution_count": 342,
   "metadata": {},
   "outputs": [
    {
     "data": {
      "text/plain": [
       "548"
      ]
     },
     "execution_count": 342,
     "metadata": {},
     "output_type": "execute_result"
    }
   ],
   "source": [
    "len(test_groups)"
   ]
  },
  {
   "cell_type": "code",
   "execution_count": 343,
   "metadata": {},
   "outputs": [],
   "source": [
    "# Store test indices and values\n",
    "test_idx = ([], [])\n",
    "test_values = []\n",
    "test_orders = {}\n",
    "for group in test_groups:\n",
    "    gr_ratings = ratings[:, group]\n",
    "    poss_buss_1 = np.where(((gr_ratings==1) + (gr_ratings==2)).sum(1) == n)[0]\n",
    "    poss_buss_5 = np.where((gr_ratings>=4).sum(1) == n)[0]\n",
    "    buss_1 = np.random.choice(poss_buss_1)\n",
    "    buss_5 = np.random.choice(poss_buss_5)\n",
    "    for u in group:\n",
    "        test_idx[0].append(buss_1)\n",
    "        test_idx[1].append(u)\n",
    "        test_values.append(ratings[buss_1, u])\n",
    "        test_idx[0].append(buss_5)\n",
    "        test_idx[1].append(u)\n",
    "        test_values.append(ratings[buss_5, u])\n",
    "    test_orders[group] = (buss_5, buss_1)"
   ]
  },
  {
   "cell_type": "markdown",
   "metadata": {},
   "source": [
    "## Factorization"
   ]
  },
  {
   "cell_type": "markdown",
   "metadata": {},
   "source": [
    "Train - validation split"
   ]
  },
  {
   "cell_type": "code",
   "execution_count": 344,
   "metadata": {},
   "outputs": [],
   "source": [
    "ind = np.transpose(np.nonzero(ratings))\n",
    "train_idx, val_idx = train_test_split(ind, test_size=0.1)\n",
    "train_idx = tuple(train_idx.T)\n",
    "val_idx = tuple(val_idx.T)\n",
    "val_values = np.squeeze(np.asarray(ratings[val_idx].todense()))"
   ]
  },
  {
   "cell_type": "code",
   "execution_count": 345,
   "metadata": {},
   "outputs": [],
   "source": [
    "test_groups = list(test_groups)"
   ]
  },
  {
   "cell_type": "code",
   "execution_count": 346,
   "metadata": {},
   "outputs": [],
   "source": [
    "rel_data = ratings.copy()"
   ]
  },
  {
   "cell_type": "code",
   "execution_count": 347,
   "metadata": {},
   "outputs": [],
   "source": [
    "rel_data[val_idx] = 0\n",
    "rel_data[test_idx] = 0"
   ]
  },
  {
   "cell_type": "markdown",
   "metadata": {},
   "source": [
    "### Preprocessing"
   ]
  },
  {
   "cell_type": "code",
   "execution_count": 348,
   "metadata": {},
   "outputs": [],
   "source": [
    "rel_data, means, _ = Solver.center(rel_data)"
   ]
  },
  {
   "cell_type": "code",
   "execution_count": 349,
   "metadata": {},
   "outputs": [],
   "source": [
    "import DB.database as DB\n",
    "business_conn = DB.get_buss_conn_mat(M, rel_data, 0, 2)"
   ]
  },
  {
   "cell_type": "code",
   "execution_count": 350,
   "metadata": {},
   "outputs": [],
   "source": [
    "# center validations\n",
    "validation_val = np.zeros(len(val_values))\n",
    "for i, val in enumerate(val_values):\n",
    "    validation_val[i] = val - means[val_idx[1][i]]"
   ]
  },
  {
   "cell_type": "markdown",
   "metadata": {},
   "source": [
    "### Factorization"
   ]
  },
  {
   "cell_type": "code",
   "execution_count": 351,
   "metadata": {},
   "outputs": [],
   "source": [
    "reg_lambda = 2\n",
    "gamma = 2\n",
    "max_steps = 100\n",
    "k = 256\n",
    "patience = 3"
   ]
  },
  {
   "cell_type": "code",
   "execution_count": 352,
   "metadata": {},
   "outputs": [
    {
     "name": "stdout",
     "output_type": "stream",
     "text": [
      "Iteration 0, training_loss: 60101349.281848, review error: 23557739.851779, validation loss: 2672302.178682\n",
      "Iteration 1, training_loss: 125202.733609, review error: 91245.574318, validation loss: 13342.286308\n",
      "Iteration 2, training_loss: 56088.150047, review error: 45663.553878, validation loss: 13214.654050\n",
      "Iteration 3, training_loss: 40858.053303, review error: 32727.063336, validation loss: 13115.591708\n",
      "Iteration 4, training_loss: 38086.817924, review error: 30484.124412, validation loss: 13087.694456\n",
      "Iteration 5, training_loss: 37183.206318, review error: 29767.712324, validation loss: 13080.708460\n",
      "Iteration 6, training_loss: 36754.935708, review error: 29429.185648, validation loss: 13081.723916\n",
      "Iteration 7, training_loss: 36508.702802, review error: 29234.703319, validation loss: 13085.739430\n",
      "Converged after 5 iterations\n"
     ]
    }
   ],
   "source": [
    "U_three, V_three, W_three, val_losses, train_loss, conv = \\\n",
    "MF.three_latent_factor_connected_graph_alternating_optimization(\n",
    "    friends, business_attributes, rel_data, business_conn, k,\n",
    "    val_idx = val_idx, val_values = validation_val,\n",
    "    reg_lambda=reg_lambda, gamma=gamma, max_steps=max_steps,\n",
    "    log_every=1, patience = patience, eval_every = 1)"
   ]
  },
  {
   "cell_type": "code",
   "execution_count": 692,
   "metadata": {},
   "outputs": [
    {
     "data": {
      "text/plain": [
       "0.8381612579431542"
      ]
     },
     "execution_count": 692,
     "metadata": {},
     "output_type": "execute_result"
    }
   ],
   "source": [
    "Solver.RMSE(U_three, V_three, test_idx, test_values, means)/ Solver.RMSE(np.zeros_like(U_three), V_three, test_idx, test_values, means)"
   ]
  },
  {
   "cell_type": "code",
   "execution_count": 354,
   "metadata": {},
   "outputs": [],
   "source": [
    "def evaluate_group_binary(user_ids, U, V, means, correct_order):\n",
    "    n = len(user_ids)\n",
    "    scores = gr.collaborative_filtering(user_ids, U, V, means)\n",
    "    clipped_scores = gr.clip(scores, 1, 5)\n",
    "    ratings, rankings = gr.order(clipped_scores)\n",
    "    inds = np.where(np.isin(rankings, correct_order))\n",
    "    ratings = ratings[inds].reshape(n, -1)\n",
    "    rankings = rankings[inds].reshape(n, -1)\n",
    "    order = mc.simulate_markov_chains(2, 2000, rankings, n=rankings.shape[1], processes=20, verbose=False)\n",
    "    return np.array_equal(order, correct_order)"
   ]
  },
  {
   "cell_type": "code",
   "execution_count": 355,
   "metadata": {},
   "outputs": [],
   "source": [
    "importlib.reload(mc)\n",
    "result = []\n",
    "for group in test_groups:\n",
    "    correct = evaluate_group_binary(list(group), U_three, V_three, means, test_orders[group])\n",
    "    result.append(correct)"
   ]
  },
  {
   "cell_type": "code",
   "execution_count": 694,
   "metadata": {},
   "outputs": [
    {
     "name": "stdout",
     "output_type": "stream",
     "text": [
      "Accuracy: 0.945255\n"
     ]
    }
   ],
   "source": [
    "print('Accuracy: %f' % np.mean(result))"
   ]
  },
  {
   "cell_type": "markdown",
   "metadata": {},
   "source": [
    "## Method 2\n",
    "This time we want to check whether a distribution across different ratings is preservered during our model processes.\n",
    "\n",
    "First we have to search for group of usrs which have rated the same businesses. To do so we use the cosine distance between each individual user."
   ]
  },
  {
   "cell_type": "code",
   "execution_count": 641,
   "metadata": {},
   "outputs": [],
   "source": [
    "min_businesses = 5"
   ]
  },
  {
   "cell_type": "code",
   "execution_count": 642,
   "metadata": {},
   "outputs": [],
   "source": [
    "ratings_ind = ratings > 0"
   ]
  },
  {
   "cell_type": "code",
   "execution_count": 643,
   "metadata": {},
   "outputs": [],
   "source": [
    "cosine_distances = cosine_similarity(ratings_ind.T)"
   ]
  },
  {
   "cell_type": "code",
   "execution_count": 644,
   "metadata": {},
   "outputs": [],
   "source": [
    "cosine_distances -= np.eye(cosine_distances.shape[0])"
   ]
  },
  {
   "cell_type": "code",
   "execution_count": 645,
   "metadata": {},
   "outputs": [],
   "source": [
    "best_connected = cosine_distances.sum(1).argsort()[::-1]"
   ]
  },
  {
   "cell_type": "code",
   "execution_count": 646,
   "metadata": {},
   "outputs": [
    {
     "name": "stdout",
     "output_type": "stream",
     "text": [
      "46\n"
     ]
    }
   ],
   "source": [
    "# Find groups\n",
    "groups = set()\n",
    "groups = {}\n",
    "for user in best_connected[:]:\n",
    "    best_matches = cosine_distances[user].argsort()[::-1]\n",
    "    for off in range(10):\n",
    "        inds = [user] + list(best_matches[off:off + n-1])\n",
    "        if (ratings_ind[:, inds].sum(1) == n).sum() >= min_businesses:\n",
    "            groups[tuple(inds)] = np.where(ratings_ind[:, inds].sum(1) == n)[0]\n",
    "print(len(groups))"
   ]
  },
  {
   "cell_type": "code",
   "execution_count": 647,
   "metadata": {},
   "outputs": [],
   "source": [
    "# Remove duplicated groups\n",
    "to_remove = []\n",
    "for i, g1 in enumerate(groups.keys()):\n",
    "    for j in range(i+1, len(groups)):\n",
    "        g2 = list(groups.keys())[j]\n",
    "        if np.isin(g1, g2).all():\n",
    "            to_remove.append(g2)"
   ]
  },
  {
   "cell_type": "code",
   "execution_count": 648,
   "metadata": {},
   "outputs": [],
   "source": [
    "# Remove duplicated groups\n",
    "for r in to_remove[::-1]:\n",
    "    try:\n",
    "        del groups[r]\n",
    "    except:\n",
    "        pass"
   ]
  },
  {
   "cell_type": "code",
   "execution_count": 649,
   "metadata": {},
   "outputs": [],
   "source": [
    "# Construct test indices and values\n",
    "test_idx = ([], [])\n",
    "test_values = []\n",
    "for group, businesses in groups.items():\n",
    "    for user in group:\n",
    "        for business in businesses:\n",
    "            test_idx[0].append(business)\n",
    "            test_idx[1].append(user)\n",
    "            test_values.append(ratings[business, user])"
   ]
  },
  {
   "cell_type": "code",
   "execution_count": 650,
   "metadata": {},
   "outputs": [
    {
     "data": {
      "text/plain": [
       "932"
      ]
     },
     "execution_count": 650,
     "metadata": {},
     "output_type": "execute_result"
    }
   ],
   "source": [
    "len(test_idx[0])"
   ]
  },
  {
   "cell_type": "markdown",
   "metadata": {},
   "source": [
    "## Factorization"
   ]
  },
  {
   "cell_type": "markdown",
   "metadata": {},
   "source": [
    "Train - validation split"
   ]
  },
  {
   "cell_type": "code",
   "execution_count": 652,
   "metadata": {},
   "outputs": [],
   "source": [
    "ind = np.transpose(np.nonzero(ratings))\n",
    "train_idx, val_idx = train_test_split(ind, test_size=0.1)\n",
    "train_idx = tuple(train_idx.T)\n",
    "val_idx = tuple(val_idx.T)\n",
    "val_values = np.squeeze(np.asarray(ratings[val_idx].todense()))"
   ]
  },
  {
   "cell_type": "code",
   "execution_count": 653,
   "metadata": {},
   "outputs": [],
   "source": [
    "rel_data = ratings.copy()"
   ]
  },
  {
   "cell_type": "code",
   "execution_count": 654,
   "metadata": {},
   "outputs": [],
   "source": [
    "rel_data[val_idx] = 0\n",
    "rel_data[test_idx] = 0"
   ]
  },
  {
   "cell_type": "markdown",
   "metadata": {},
   "source": [
    "### Preprocessing"
   ]
  },
  {
   "cell_type": "code",
   "execution_count": 655,
   "metadata": {},
   "outputs": [],
   "source": [
    "rel_data, means, _ = Solver.center(rel_data)"
   ]
  },
  {
   "cell_type": "code",
   "execution_count": 656,
   "metadata": {},
   "outputs": [],
   "source": [
    "import DB.database as DB\n",
    "business_conn = DB.get_buss_conn_mat(M, rel_data, 0, 2)"
   ]
  },
  {
   "cell_type": "code",
   "execution_count": 657,
   "metadata": {},
   "outputs": [],
   "source": [
    "# center validations\n",
    "validation_val = np.zeros(len(val_values))\n",
    "for i, val in enumerate(val_values):\n",
    "    validation_val[i] = val - means[val_idx[1][i]]"
   ]
  },
  {
   "cell_type": "markdown",
   "metadata": {},
   "source": [
    "### Factorization"
   ]
  },
  {
   "cell_type": "code",
   "execution_count": 658,
   "metadata": {},
   "outputs": [],
   "source": [
    "reg_lambda = 2\n",
    "gamma = 2\n",
    "max_steps = 100\n",
    "k = 256\n",
    "patience = 3"
   ]
  },
  {
   "cell_type": "code",
   "execution_count": 659,
   "metadata": {},
   "outputs": [
    {
     "name": "stdout",
     "output_type": "stream",
     "text": [
      "Iteration 0, training_loss: 58507044.407028, review error: 23437766.063340, validation loss: 2581793.001023\n",
      "Iteration 1, training_loss: 126864.140020, review error: 92032.337568, validation loss: 13486.873191\n",
      "Iteration 2, training_loss: 56044.952518, review error: 45269.862799, validation loss: 13322.489216\n",
      "Iteration 3, training_loss: 40837.404108, review error: 32528.344492, validation loss: 13237.981879\n",
      "Iteration 4, training_loss: 38080.358981, review error: 30330.236786, validation loss: 13218.461996\n",
      "Iteration 5, training_loss: 37177.239976, review error: 29624.375011, validation loss: 13217.132471\n",
      "Iteration 6, training_loss: 36746.681716, review error: 29289.467450, validation loss: 13221.128775\n",
      "Iteration 7, training_loss: 36497.302118, review error: 29095.904462, validation loss: 13226.359626\n",
      "Converged after 5 iterations\n"
     ]
    }
   ],
   "source": [
    "U_order, V_order, W_three, val_losses, train_loss, conv = \\\n",
    "MF.three_latent_factor_connected_graph_alternating_optimization(\n",
    "    friends, business_attributes, rel_data, business_conn, k,\n",
    "    val_idx = val_idx, val_values = validation_val,\n",
    "    reg_lambda=reg_lambda, gamma=gamma, max_steps=max_steps,\n",
    "    log_every=1, patience = patience, eval_every = 1)"
   ]
  },
  {
   "cell_type": "markdown",
   "metadata": {},
   "source": [
    "## Evaluating the pipeline\n",
    "We will now compute for every group the optimal order by brute force and the recommend order. Afterwards we compare the optimal order with the recommended one and pairwise the optimal/recommended with the individual users."
   ]
  },
  {
   "cell_type": "code",
   "execution_count": 660,
   "metadata": {},
   "outputs": [],
   "source": [
    "def evaluate_group(user_ids, businesses, U, V, means):\n",
    "    n = len(user_ids)\n",
    "    scores = gr.collaborative_filtering(user_ids, U, V, means)\n",
    "    clipped_scores = gr.clip(scores, 1, 5)\n",
    "    ratings, rankings = gr.order(clipped_scores)\n",
    "    inds = np.where(np.isin(rankings, businesses))\n",
    "    ratings = ratings[inds].reshape(n, -1)\n",
    "    rankings = rankings[inds].reshape(n, -1)\n",
    "    order = mc.simulate_markov_chains(2, 2000, rankings, n=rankings.shape[1], processes=20, verbose=False)\n",
    "    return order"
   ]
  },
  {
   "cell_type": "code",
   "execution_count": 661,
   "metadata": {},
   "outputs": [],
   "source": [
    "def optimal_order(businesses, orders):\n",
    "    best_match = None\n",
    "    best_perm = None\n",
    "    for perm in itertools.permutations(businesses):\n",
    "        match = 0\n",
    "        for order in orders:\n",
    "            match += kendalltau(perm, order)[0]\n",
    "        if best_match is None or match > best_match:\n",
    "            best_match = match\n",
    "            best_perm = perm\n",
    "    return best_perm, best_match"
   ]
  },
  {
   "cell_type": "code",
   "execution_count": 662,
   "metadata": {},
   "outputs": [
    {
     "name": "stdout",
     "output_type": "stream",
     "text": [
      "0\n",
      "10\n",
      "20\n",
      "30\n"
     ]
    }
   ],
   "source": [
    "group_orders = []\n",
    "optimal_orders = []\n",
    "rec_orders = []\n",
    "skipped = []\n",
    "for i, (group, businesses) in enumerate(groups.items()):\n",
    "    #group_ratings = np.zeros((len(group), len(businesses)))\n",
    "    #for i, user in enumerate(group):\n",
    "    #    group_ratings[i] = ratings[:,group][businesses]\n",
    "    group_ratings = ratings[businesses, :][:, group].T.todense()\n",
    "    orders = np.array(businesses)[group_ratings.argsort(1)[:,::-1]]\n",
    "    rec_order = evaluate_group(list(group), businesses, U_order, V_order, means)\n",
    "    group_orders.append(orders)\n",
    "    if len(businesses) < 6:\n",
    "        opt_order, kt = optimal_order(businesses, orders)\n",
    "        optimal_orders.append(opt_order)\n",
    "    else:\n",
    "        skipped.append(i)\n",
    "    rec_orders.append(rec_order)\n",
    "    #print(group, businesses, group_ratings, orders, opt_order, rec_order)\n",
    "    if i % 10 == 0:\n",
    "        print(i)"
   ]
  },
  {
   "cell_type": "code",
   "execution_count": null,
   "metadata": {},
   "outputs": [],
   "source": [
    "list(groups.keys()).index(skipped[0])"
   ]
  },
  {
   "cell_type": "code",
   "execution_count": null,
   "metadata": {},
   "outputs": [],
   "source": [
    "rec_order_cut = list(rec_orders)\n",
    "optimal_orders_cut = list(optimal_orders)\n",
    "for s in skipped:\n",
    "    s = list(groups.keys())[s]\n",
    "    del rec_order_cut[s]\n",
    "    del optimal_orders_cut[s]\n",
    "    print(s)"
   ]
  },
  {
   "cell_type": "code",
   "execution_count": 665,
   "metadata": {},
   "outputs": [
    {
     "data": {
      "text/plain": [
       "(40, 26)"
      ]
     },
     "execution_count": 665,
     "metadata": {},
     "output_type": "execute_result"
    }
   ],
   "source": [
    "len(rec_order_cut), len(optimal_orders_cut)"
   ]
  },
  {
   "cell_type": "code",
   "execution_count": 666,
   "metadata": {},
   "outputs": [
    {
     "name": "stdout",
     "output_type": "stream",
     "text": [
      "Optimal to individual:  0.475\n"
     ]
    }
   ],
   "source": [
    "kts = []\n",
    "off = 0\n",
    "for i in range(len(groups)):\n",
    "    if i not in skipped:\n",
    "        for order in group_orders[i]:\n",
    "            kts.append(kendalltau(optimal_orders[i - off], order)[0])\n",
    "    else:\n",
    "        off += 1\n",
    "print('Optimal to individual: ', np.mean(kts))"
   ]
  },
  {
   "cell_type": "code",
   "execution_count": 667,
   "metadata": {},
   "outputs": [
    {
     "name": "stdout",
     "output_type": "stream",
     "text": [
      "Optimal to recommended:  0.06923076923076922\n"
     ]
    }
   ],
   "source": [
    "kts = []\n",
    "off = 0\n",
    "for i in range(len(groups)):\n",
    "    if i not in skipped:\n",
    "        kts.append(kendalltau(optimal_orders[i - off], rec_orders[i])[0])\n",
    "    else:\n",
    "        off += 1\n",
    "print('Optimal to recommended: ', np.mean(kts))"
   ]
  },
  {
   "cell_type": "code",
   "execution_count": 668,
   "metadata": {},
   "outputs": [
    {
     "name": "stdout",
     "output_type": "stream",
     "text": [
      "Individual to recommended:  -0.029772727272727277\n"
     ]
    }
   ],
   "source": [
    "kts = []\n",
    "off = 0\n",
    "for i in range(len(groups)):\n",
    "    for order in group_orders[i]:\n",
    "        kts.append(kendalltau(rec_orders[i], order)[0])\n",
    "print('Individual to recommended: ', np.mean(kts))"
   ]
  },
  {
   "cell_type": "code",
   "execution_count": 673,
   "metadata": {},
   "outputs": [
    {
     "data": {
      "text/plain": [
       "0.8878124856053713"
      ]
     },
     "execution_count": 673,
     "metadata": {},
     "output_type": "execute_result"
    }
   ],
   "source": [
    "ratings[test_idx].todense().std()"
   ]
  },
  {
   "cell_type": "markdown",
   "metadata": {},
   "source": [
    "Since we have a lower standard deviation in this test set compared to the previous method. We want to check whether the standard deviation has an influence on our performance."
   ]
  },
  {
   "cell_type": "code",
   "execution_count": 676,
   "metadata": {},
   "outputs": [],
   "source": [
    "stds = []\n",
    "kendalltaus = []\n",
    "for i, (group, businesses) in enumerate(groups.items()):\n",
    "    std = ratings[businesses][:,group].todense().std()\n",
    "    kts = []\n",
    "    for order in group_orders[i]:\n",
    "        kts.append(kendalltau(rec_orders[i], order)[0])\n",
    "    kendalltaus.append(np.mean(kts))\n",
    "    stds.append(std)"
   ]
  },
  {
   "cell_type": "code",
   "execution_count": 686,
   "metadata": {},
   "outputs": [],
   "source": [
    "stds = np.array(stds)\n",
    "kendalltaus = np.array(kendalltaus)\n",
    "inds = stds.argsort()"
   ]
  },
  {
   "cell_type": "code",
   "execution_count": 695,
   "metadata": {},
   "outputs": [
    {
     "data": {
      "image/png": "[encoded data removed]",
      "text/plain": [
       "<Figure size 432x288 with 1 Axes>"
      ]
     },
     "metadata": {},
     "output_type": "display_data"
    }
   ],
   "source": [
    "from scipy.stats import linregress\n",
    "slope, intercept, _, _, _ = linregress(stds[inds], kendalltaus[inds])\n",
    "plt.plot(stds[inds], kendalltaus[inds], 'x')\n",
    "plt.plot(stds[inds], stds[inds] * slope + intercept)\n",
    "plt.xlabel('Standard deviation')\n",
    "plt.ylabel('Kendalltau distance')\n",
    "plt.show()"
   ]
  },
  {
   "cell_type": "markdown",
   "metadata": {},
   "source": [
    "Our method may be influenced by the standard deviation but our sample size of the test set is to small to conclude any statement."
   ]
  },
  {
   "cell_type": "code",
   "execution_count": null,
   "metadata": {},
   "outputs": [],
   "source": []
  }
 ],
 "metadata": {
  "kernelspec": {
   "display_name": "Python 3",
   "language": "python",
   "name": "python3"
  },
  "language_info": {
   "codemirror_mode": {
    "name": "ipython",
    "version": 3
   },
   "file_extension": ".py",
   "mimetype": "text/x-python",
   "name": "python",
   "nbconvert_exporter": "python",
   "pygments_lexer": "ipython3",
   "version": "3.6.5"
  }
 },
 "nbformat": 4,
 "nbformat_minor": 2
}
