{
 "cells": [
  {
   "cell_type": "markdown",
   "metadata": {},
   "source": [
    "# Group Recommendation\n",
    "Notebook runs all necessary steps needed to train and evaluate a group recommendation model based on 4-way graph-regularized Matrix Factorization and Markov Chain rank aggregation."
   ]
  },
  {
   "cell_type": "code",
   "execution_count": 1,
   "metadata": {},
   "outputs": [],
   "source": [
    "import numpy as np\n",
    "import pickle\n",
    "\n",
    "import DB.database as DB\n",
    "import src.preprocessing as pre\n",
    "import src.Solver as Solver\n",
    "import src.MF as MF\n",
    "import src.gr_recommender as gr\n",
    "import src.mc as mc"
   ]
  },
  {
   "cell_type": "markdown",
   "metadata": {},
   "source": [
    "## Step 1: Preprocess Data\n",
    "### Set Dimensions and load data"
   ]
  },
  {
   "cell_type": "code",
   "execution_count": 2,
   "metadata": {},
   "outputs": [
    {
     "name": "stdout",
     "output_type": "stream",
     "text": [
      "Got users\n",
      "Got businesses\n",
      "Got reviews\n"
     ]
    }
   ],
   "source": [
    "N = 100000  #Number of Users\n",
    "M = 100000  #Number of Businesses\n",
    "db = DB.Database()\n",
    "db.__enter__()\n",
    "friends, relations, business_attributes = DB.get_data(N, M)\n",
    "users, businesses, reviews, categroy_names, cities = DB.get_entities(db, N, M)"
   ]
  },
  {
   "cell_type": "markdown",
   "metadata": {},
   "source": [
    "### Delete users with too few reviews and friends"
   ]
  },
  {
   "cell_type": "code",
   "execution_count": 3,
   "metadata": {},
   "outputs": [
    {
     "name": "stdout",
     "output_type": "stream",
     "text": [
      "Shape before: (100000, 100000)\n",
      "Shape after: (808, 763)\n"
     ]
    }
   ],
   "source": [
    "min_entries = 10\n",
    "relations_cut, user_idx, bus_idx, friends, business_attributes = \\\n",
    "    pre.cold_start_preprocessing(relations, friends, business_attributes, min_entries=min_entries)"
   ]
  },
  {
   "cell_type": "markdown",
   "metadata": {},
   "source": [
    "### Split Data: 80% Training, 10% Validation, 10% Test"
   ]
  },
  {
   "cell_type": "code",
   "execution_count": 4,
   "metadata": {},
   "outputs": [
    {
     "name": "stdout",
     "output_type": "stream",
     "text": [
      "Original size:(808, 763)\n",
      "Nonzero entries:15863\n",
      "Train:12690, Val:1587, Test:1586\n"
     ]
    }
   ],
   "source": [
    "r_data = Solver.Dataset(relations_cut)\n",
    "rel_data = r_data.data\n",
    "rel_data[r_data.test_ind] = 0\n",
    "rel_data[r_data.val_ind] = 0"
   ]
  },
  {
   "cell_type": "markdown",
   "metadata": {},
   "source": [
    "### Center Training Data and subtract means from Validation Data"
   ]
  },
  {
   "cell_type": "code",
   "execution_count": 5,
   "metadata": {},
   "outputs": [],
   "source": [
    "rel_data, means, _ = Solver.center(rel_data)\n",
    "validation_val = Solver.center_val(r_data.val_values, r_data.val_ind, means)"
   ]
  },
  {
   "cell_type": "markdown",
   "metadata": {},
   "source": [
    "### Get Graph regularization Matrices"
   ]
  },
  {
   "cell_type": "code",
   "execution_count": 6,
   "metadata": {},
   "outputs": [],
   "source": [
    "business_conn = DB.get_buss_conn_mat(M, rel_data, 0, 2)"
   ]
  },
  {
   "cell_type": "markdown",
   "metadata": {},
   "source": [
    "## Step 2: Train Factorization Model\n",
    "### Set Parameters"
   ]
  },
  {
   "cell_type": "code",
   "execution_count": 7,
   "metadata": {},
   "outputs": [],
   "source": [
    "k = 256         # dimension of latent space\n",
    "reg_lambda = 2  # weight of L2 regularization\n",
    "gamma = 2       # weight of graph regularization\n",
    "max_steps = 100\n",
    "patience = 3    # number of allowed training steps with increasing validation loss\n",
    "log_every = 1   # how often should the loss be computed and logged"
   ]
  },
  {
   "cell_type": "markdown",
   "metadata": {},
   "source": [
    "### Train Model"
   ]
  },
  {
   "cell_type": "code",
   "execution_count": 8,
   "metadata": {},
   "outputs": [
    {
     "name": "stdout",
     "output_type": "stream",
     "text": [
      "Iteration 0, training_loss: 9457279.296873, review error: 3244079.220109, validation loss: 408723.436467\n",
      "Iteration 1, training_loss: 16665.308081, review error: 10811.635747, validation loss: 1594.005273\n",
      "Iteration 2, training_loss: 8693.077969, review error: 7250.690887, validation loss: 1527.894274\n",
      "Iteration 3, training_loss: 6673.218393, review error: 5559.216565, validation loss: 1513.164473\n",
      "Iteration 4, training_loss: 6247.043885, review error: 5179.157731, validation loss: 1514.699040\n",
      "Iteration 5, training_loss: 6114.201171, review error: 5059.048715, validation loss: 1517.097890\n",
      "Converged after 3 iterations\n"
     ]
    }
   ],
   "source": [
    "U, V, W, val_losses, train_loss, conv = \\\n",
    "    MF.three_latent_factor_connected_graph_alternating_optimization(\n",
    "        friends, business_attributes, rel_data, business_conn, k=k,\n",
    "        val_idx = r_data.val_ind, val_values = validation_val,\n",
    "        reg_lambda=reg_lambda, gamma=gamma, max_steps=max_steps,\n",
    "        log_every=log_every, patience=patience, eval_every=log_every)"
   ]
  },
  {
   "cell_type": "markdown",
   "metadata": {},
   "source": [
    "### Save Results and check test error"
   ]
  },
  {
   "cell_type": "code",
   "execution_count": 9,
   "metadata": {},
   "outputs": [],
   "source": [
    "with open('factorized_matrices.pickle', 'wb') as f:\n",
    "    pickle.dump((U, V, W, means), f)"
   ]
  },
  {
   "cell_type": "code",
   "execution_count": 10,
   "metadata": {},
   "outputs": [
    {
     "name": "stdout",
     "output_type": "stream",
     "text": [
      "Root Mean Squared Error on the test set:  [0.96686274]\n"
     ]
    }
   ],
   "source": [
    "test_err = Solver.RMSE(U, V, r_data.test_ind, r_data.test_values, means)\n",
    "print(\"Root Mean Squared Error on the test set: \", test_err)"
   ]
  },
  {
   "cell_type": "markdown",
   "metadata": {},
   "source": [
    "## Step 3: Group Recommendation\n",
    "### Choose a group of friends and add filter criteria"
   ]
  },
  {
   "cell_type": "code",
   "execution_count": 11,
   "metadata": {},
   "outputs": [],
   "source": [
    "\n",
    "g = 4 #group size\n",
    "\n",
    "user_ids = gr.get_friended_users(g, rel_data, friends)\n",
    "#user_ids = gr.get_random_users(g, rel_data)\n",
    "#user_ids = gr.get_nearest_users(g, U)"
   ]
  },
  {
   "cell_type": "markdown",
   "metadata": {},
   "source": [
    "### Collaborative Filtering"
   ]
  },
  {
   "cell_type": "code",
   "execution_count": 14,
   "metadata": {},
   "outputs": [],
   "source": [
    "city = gr.get_most_rated_city(user_ids, rel_data, businesses, bus_idx)\n",
    "#city = 'Las Vegas'\n",
    "\n",
    "scores = gr.collaborative_filtering(user_ids, U, V, means)\n",
    "clipped_scores = gr.clip(scores, 1, 5)\n",
    "filled_scores = gr.fill_real_ratings(clipped_scores, rel_data[:, user_ids].todense() + means[user_ids])\n",
    "filtered_scores, original_inds = gr.filter_cities_and_categories(filled_scores, businesses, city, ['Restaurants'], bus_idx)\n",
    "filtered_scores, idx_transition = gr.filter_misery(filtered_scores, filtered_scores.shape[0]//2, original_inds)"
   ]
  },
  {
   "cell_type": "markdown",
   "metadata": {},
   "source": [
    "### Markov Chain Simulation"
   ]
  },
  {
   "cell_type": "code",
   "execution_count": 15,
   "metadata": {},
   "outputs": [
    {
     "name": "stdout",
     "output_type": "stream",
     "text": [
      "[ 25 205]\n",
      "1. Simulation ended; Found: [37, 348]; Total of 2 items\n",
      "[188]\n",
      "2. Simulation ended; Found: [318]; Total of 3 items\n",
      "[58]\n",
      "3. Simulation ended; Found: [112]; Total of 4 items\n",
      "[11]\n",
      "4. Simulation ended; Found: [14]; Total of 5 items\n",
      "[6]\n",
      "5. Simulation ended; Found: [6]; Total of 6 items\n",
      "[212]\n",
      "6. Simulation ended; Found: [361]; Total of 7 items\n",
      "[211]\n",
      "7. Simulation ended; Found: [359]; Total of 8 items\n",
      "[210]\n",
      "8. Simulation ended; Found: [358]; Total of 9 items\n",
      "[209]\n",
      "9. Simulation ended; Found: [355]; Total of 10 items\n",
      "[208]\n",
      "10. Simulation ended; Found: [354]; Total of 11 items\n",
      "[207]\n",
      "11. Simulation ended; Found: [352]; Total of 12 items\n",
      "[206]\n",
      "12. Simulation ended; Found: [351]; Total of 13 items\n",
      "[204]\n",
      "13. Simulation ended; Found: [347]; Total of 14 items\n",
      "[203]\n",
      "14. Simulation ended; Found: [345]; Total of 15 items\n",
      "[202]\n",
      "15. Simulation ended; Found: [341]; Total of 16 items\n",
      "[201]\n",
      "16. Simulation ended; Found: [340]; Total of 17 items\n",
      "[200]\n",
      "17. Simulation ended; Found: [339]; Total of 18 items\n",
      "[199]\n",
      "18. Simulation ended; Found: [336]; Total of 19 items\n",
      "[198]\n",
      "19. Simulation ended; Found: [331]; Total of 20 items\n",
      "Found 20 items. End.\n"
     ]
    }
   ],
   "source": [
    "import importlib\n",
    "importlib.reload(mc)\n",
    "\n",
    "ratings, rankings = gr.order(filtered_scores, idx_transition)\n",
    "order = mc.simulate_markov_chains(2, 1000, rankings, n=20, processes=20, min_samples=200, max_items_per_step=2, verbose=True)"
   ]
  },
  {
   "cell_type": "markdown",
   "metadata": {},
   "source": [
    "### Evaluate Results"
   ]
  },
  {
   "cell_type": "code",
   "execution_count": 16,
   "metadata": {},
   "outputs": [
    {
     "name": "stdout",
     "output_type": "stream",
     "text": [
      "Recommeded Restaurants: \n",
      "- Grand Lux Cafe\n",
      "- I Love Sushi\n",
      "- The Orleans Hotel & Casino\n",
      "- LAVO Italian Restaurant & Lounge\n",
      "- Bouchon at the Venezia Tower\n",
      "- The Buffet\n",
      "- Elara by Hilton Grand Vacations\n",
      "- Ping Pang Pong\n",
      "- The Hotel At Mandalay Bay\n",
      "- Egg Works\n",
      "- Lucille's Smokehouse Bar-B-Que\n",
      "- The White Chocolate Grill\n",
      "- Pho So 1\n",
      "- Postino East\n",
      "- Daily Dose\n",
      "- Phoenix Public Market Cafe\n",
      "- Palms Place\n",
      "- Sweets Raku\n",
      "- RM Seafood\n",
      "- MTO Café\n"
     ]
    }
   ],
   "source": [
    "names = [businesses[o].name for o in order]\n",
    "print(\"Recommeded Restaurants: \\n-\",\"\\n- \".join(names))"
   ]
  },
  {
   "cell_type": "code",
   "execution_count": null,
   "metadata": {},
   "outputs": [],
   "source": []
  }
 ],
 "metadata": {
  "kernelspec": {
   "display_name": "Python 3",
   "language": "python",
   "name": "python3"
  },
  "language_info": {
   "codemirror_mode": {
    "name": "ipython",
    "version": 3
   },
   "file_extension": ".py",
   "mimetype": "text/x-python",
   "name": "python",
   "nbconvert_exporter": "python",
   "pygments_lexer": "ipython3",
   "version": "3.6.5"
  }
 },
 "nbformat": 4,
 "nbformat_minor": 2
}
